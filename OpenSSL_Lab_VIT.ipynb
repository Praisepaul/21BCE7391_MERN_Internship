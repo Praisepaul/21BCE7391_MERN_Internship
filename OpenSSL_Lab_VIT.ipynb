{
  "nbformat": 4,
  "nbformat_minor": 0,
  "metadata": {
    "colab": {
      "provenance": [],
      "toc_visible": true,
      "include_colab_link": true
    },
    "kernelspec": {
      "name": "python3",
      "display_name": "Python 3"
    },
    "language_info": {
      "name": "python"
    }
  },
  "cells": [
    {
      "cell_type": "markdown",
      "metadata": {
        "id": "view-in-github",
        "colab_type": "text"
      },
      "source": [
        "<a href=\"https://colab.research.google.com/github/Praisepaul/21BCE7391_MERN_Internship/blob/main/OpenSSL_Lab_VIT.ipynb\" target=\"_parent\"><img src=\"https://colab.research.google.com/assets/colab-badge.svg\" alt=\"Open In Colab\"/></a>"
      ]
    },
    {
      "cell_type": "markdown",
      "source": [
        "# OpenSSL Lab"
      ],
      "metadata": {
        "id": "fu_fbsGH6fAe"
      }
    },
    {
      "cell_type": "markdown",
      "source": [
        "Here's a step-by-step guide for creating key pairs, setting up a Root CA, an Intermediate CA, and an Identity certificate using OpenSSL. This guide also includes commands for verification and viewing certificates in different formats.\n"
      ],
      "metadata": {
        "id": "XIeVQl6N80vE"
      }
    },
    {
      "cell_type": "markdown",
      "source": [
        "Passphrase used is: cisco"
      ],
      "metadata": {
        "id": "5JVLvzma_Gyf"
      }
    },
    {
      "cell_type": "markdown",
      "source": [
        "Step 1: Create a Root Key Pair\n"
      ],
      "metadata": {
        "id": "WwbpukNF882s"
      }
    },
    {
      "cell_type": "code",
      "source": [
        "#Generate a Root Key\n",
        "!openssl genrsa -aes256 -out rootCA.key 4096"
      ],
      "metadata": {
        "colab": {
          "base_uri": "https://localhost:8080/"
        },
        "id": "lj4wZ-hL9BKx",
        "outputId": "26b5c393-f0d5-4dd5-dad3-707193d245df"
      },
      "execution_count": 1,
      "outputs": [
        {
          "output_type": "stream",
          "name": "stdout",
          "text": [
            "Enter PEM pass phrase:\n",
            "Verifying - Enter PEM pass phrase:\n"
          ]
        }
      ]
    },
    {
      "cell_type": "code",
      "source": [
        "#Verify RSA keypair\n",
        "!openssl rsa -in rootCA.key -text -noout"
      ],
      "metadata": {
        "colab": {
          "base_uri": "https://localhost:8080/"
        },
        "id": "YVjk3WPE-iEW",
        "outputId": "7b50d7a4-cdda-460a-ff46-b65e03afd418"
      },
      "execution_count": 2,
      "outputs": [
        {
          "output_type": "stream",
          "name": "stdout",
          "text": [
            "Enter pass phrase for rootCA.key:\n",
            "Private-Key: (4096 bit, 2 primes)\n",
            "modulus:\n",
            "    00:af:e3:7f:4d:d1:01:db:23:85:58:fa:55:0c:40:\n",
            "    47:e8:7d:e2:2a:26:28:c2:0c:7e:c4:4a:6c:cb:46:\n",
            "    2c:5f:24:68:b1:be:96:0d:4e:8e:49:8e:95:be:05:\n",
            "    7e:c1:b7:04:76:09:60:55:40:45:40:73:5c:e4:13:\n",
            "    c8:b4:18:d4:c0:e5:95:8c:35:81:dc:d9:aa:2b:4d:\n",
            "    e1:55:59:d1:87:86:49:15:de:6b:bd:35:ce:26:6c:\n",
            "    8f:11:9d:14:a3:35:12:e0:00:31:be:c8:63:70:6d:\n",
            "    77:e6:b9:03:71:99:08:3d:76:3e:6d:31:1b:91:00:\n",
            "    cb:80:6e:04:ea:a7:25:9e:12:0f:1c:9b:0e:25:6c:\n",
            "    9c:b5:3a:2f:c4:97:44:8d:c7:48:82:3b:2c:2e:b3:\n",
            "    16:73:cf:c8:9a:69:98:60:8f:b9:bc:bf:71:98:81:\n",
            "    b5:84:b0:09:7d:cf:84:cf:a0:dc:2b:2a:c5:91:1e:\n",
            "    a5:53:a0:dd:ef:e0:f9:91:df:bc:7f:55:43:93:7c:\n",
            "    f9:ea:c0:fc:cc:88:5c:6e:55:ad:5a:85:06:3d:03:\n",
            "    25:79:dd:e0:9b:58:ed:6e:8d:3a:da:5f:df:59:69:\n",
            "    d2:c6:22:46:31:6e:01:c7:d6:92:db:cb:de:4a:54:\n",
            "    04:82:71:25:2c:a7:76:3e:e2:30:b8:06:44:c8:e4:\n",
            "    65:61:11:df:25:3a:dc:ff:31:cf:d9:0f:fd:e0:2c:\n",
            "    fd:1b:3c:95:58:df:74:c7:1d:ea:57:75:8e:e4:7b:\n",
            "    fb:4a:67:dc:0f:40:0a:06:b1:76:61:75:c8:de:99:\n",
            "    09:61:a9:37:eb:16:bb:d2:b6:3b:13:82:85:44:d0:\n",
            "    8f:90:17:e9:68:39:6b:be:5b:bc:6a:f9:4a:fa:a7:\n",
            "    99:ba:be:39:b9:1d:2e:a3:d4:17:0e:0f:cd:64:c5:\n",
            "    1d:b6:86:6c:50:31:47:f0:64:50:3e:ba:4e:e8:40:\n",
            "    46:21:0b:f0:73:77:ba:32:f9:f7:13:c1:5e:2c:ec:\n",
            "    06:49:9a:9b:e8:cd:00:97:c3:b6:e7:6a:b6:72:29:\n",
            "    a3:f6:06:48:e3:17:9a:4e:7d:69:e2:1c:16:e7:f5:\n",
            "    2a:b6:82:ff:9c:c2:41:ec:23:2e:52:98:ec:27:5f:\n",
            "    74:93:48:92:3d:52:ac:6f:57:4a:c7:7a:0c:64:1e:\n",
            "    e6:c9:bf:15:f6:d8:2b:99:83:df:00:9e:20:ff:17:\n",
            "    e0:99:8b:a9:d2:bc:1d:cf:36:c3:cb:7f:f9:cc:c4:\n",
            "    77:fc:1c:fc:ca:ab:28:8d:f2:c6:50:f0:8c:6d:5e:\n",
            "    89:d3:10:0d:76:40:cb:89:29:53:ed:5e:7f:dc:19:\n",
            "    8e:33:ee:61:6a:e2:59:9a:dd:07:6c:fa:a4:29:7a:\n",
            "    a3:23:37\n",
            "publicExponent: 65537 (0x10001)\n",
            "privateExponent:\n",
            "    30:a5:35:48:c2:d5:06:14:19:65:c5:fa:6e:a4:7a:\n",
            "    9e:d0:ee:13:a5:31:21:96:0e:1b:60:d0:1d:1a:3f:\n",
            "    dc:62:77:f8:2c:d3:58:43:d1:33:83:d5:63:54:26:\n",
            "    be:11:cd:90:8d:c0:50:63:b1:a3:85:24:7c:4a:02:\n",
            "    78:d8:e3:42:a4:5c:8b:86:22:ef:ff:5d:42:93:cc:\n",
            "    0d:ec:84:f8:3c:0a:0b:9b:d3:e5:65:33:aa:49:dc:\n",
            "    f9:cc:9d:70:14:16:2f:d0:ad:f1:6b:7f:a1:11:0d:\n",
            "    97:c8:b4:ac:9e:db:fa:0f:b1:6d:46:a7:2e:9f:ef:\n",
            "    28:8a:85:1e:96:f2:de:f8:74:a8:7f:33:d6:e2:e6:\n",
            "    a6:72:bc:d2:5c:d9:cf:72:7d:d9:d2:de:c1:dd:b3:\n",
            "    08:7d:bf:a8:01:2b:6d:0d:63:1b:d2:40:eb:22:78:\n",
            "    9f:05:86:e2:7e:59:e7:88:c0:4b:ca:0d:11:39:4e:\n",
            "    15:46:89:0b:36:88:1f:b1:a6:f2:fa:94:71:7e:9f:\n",
            "    aa:2f:0c:db:ce:9c:ed:c1:11:6c:57:1d:26:13:b0:\n",
            "    32:37:cc:ce:7a:36:54:9c:87:d9:ec:a9:1b:94:1a:\n",
            "    80:c4:ea:ef:f1:d2:59:40:3d:a6:bf:88:2f:bb:73:\n",
            "    f1:d5:b4:27:d8:fa:e9:a2:6a:42:03:2d:d3:f7:e3:\n",
            "    17:93:83:c1:68:0a:27:e2:75:64:e2:8b:8e:b0:2d:\n",
            "    a6:84:4c:d1:0c:89:56:15:76:2b:66:26:f8:49:19:\n",
            "    f7:e4:ad:34:27:35:70:64:80:a7:4f:79:43:20:1f:\n",
            "    fd:1b:01:8a:df:24:c9:70:99:6f:ee:e1:45:d3:8a:\n",
            "    1a:a0:2a:57:68:5a:53:9f:8e:22:c6:39:11:45:39:\n",
            "    2d:42:b3:d4:1a:77:68:9e:23:50:ba:2a:74:d9:1a:\n",
            "    a2:79:42:2a:7e:21:a9:79:c1:56:a5:67:cd:fd:c7:\n",
            "    38:27:f3:28:df:f6:21:8d:a2:74:6b:fe:24:e5:fb:\n",
            "    e4:ef:f6:fb:8b:72:68:75:48:3f:a2:fb:dc:20:26:\n",
            "    59:19:63:33:c5:ea:a3:ef:b5:77:82:f3:8d:64:72:\n",
            "    c5:66:95:46:33:92:8d:5d:43:e9:af:45:80:0a:4d:\n",
            "    61:82:b6:86:6f:83:6b:c5:f2:48:3d:98:f6:2f:2a:\n",
            "    22:cf:41:06:74:35:ed:89:57:f4:83:dd:33:77:43:\n",
            "    21:ec:12:5e:5d:42:ed:70:b0:a9:c8:47:fd:f6:e1:\n",
            "    7a:4a:e9:9d:bc:b1:ad:55:19:34:01:16:69:81:ac:\n",
            "    13:93:b9:7a:5f:ec:d8:dc:03:b5:e1:f0:a1:87:6d:\n",
            "    8b:4d:38:f9:ed:f1:23:24:97:63:ac:c4:44:7c:19:\n",
            "    af:c1\n",
            "prime1:\n",
            "    00:e4:98:a2:52:4f:93:ba:5f:a7:8c:7c:cb:4d:f0:\n",
            "    7c:5f:02:48:1c:f8:fe:a6:de:b0:b7:ae:13:60:31:\n",
            "    e5:96:da:b5:a3:c8:65:6a:96:cc:10:e5:a8:28:c1:\n",
            "    e6:af:15:eb:84:64:17:92:87:6c:07:f3:93:c1:40:\n",
            "    53:7a:91:60:6c:19:d2:61:e8:4b:80:59:e4:77:62:\n",
            "    ec:7c:88:b3:1a:14:3e:e4:70:37:9a:01:89:a4:07:\n",
            "    fc:73:c1:63:f9:97:60:0f:ee:fe:85:a4:d4:8d:90:\n",
            "    6c:40:78:5e:19:8e:51:34:2e:91:03:db:e1:65:12:\n",
            "    00:5d:8f:7c:08:15:7f:ce:70:de:4c:a2:22:51:0b:\n",
            "    ce:5f:13:31:88:3e:80:81:66:58:64:43:1d:04:cc:\n",
            "    1b:eb:ff:c0:51:2b:70:6c:fd:15:26:71:42:99:27:\n",
            "    65:70:96:00:c5:dd:30:68:67:3a:7e:91:0a:ee:2d:\n",
            "    1f:52:37:a7:35:0e:93:8e:0e:69:3d:bc:3c:6d:b7:\n",
            "    14:16:90:15:59:b2:4f:0a:e0:af:9a:0f:bb:9c:16:\n",
            "    97:df:c3:3e:63:62:87:58:b8:83:9e:0e:e1:08:55:\n",
            "    88:fc:69:63:7c:11:e4:a5:01:e4:29:26:af:8a:61:\n",
            "    b9:f9:ce:cd:08:97:43:17:1b:5d:05:12:b7:fa:92:\n",
            "    0e:f7\n",
            "prime2:\n",
            "    00:c4:f9:53:81:43:ba:ee:a5:54:44:1a:81:27:9c:\n",
            "    c1:fa:55:31:03:6b:48:ea:92:fe:7e:bd:65:35:8b:\n",
            "    79:b2:43:79:07:a6:ec:90:76:ea:44:da:96:b5:28:\n",
            "    bc:9e:05:cf:1e:14:b1:03:ab:bc:c5:dd:f1:5e:2d:\n",
            "    71:81:16:fb:86:97:8f:2b:a0:12:80:73:64:78:df:\n",
            "    dc:30:fe:f7:d7:82:8e:44:c4:f9:00:02:3b:71:fe:\n",
            "    35:af:7b:4e:da:85:2c:93:22:63:2c:34:76:7f:e5:\n",
            "    89:88:07:e1:3c:42:9d:27:d9:f3:e6:85:fd:6b:c8:\n",
            "    77:e0:88:34:8c:f5:f1:24:b2:bd:7d:15:31:6e:31:\n",
            "    87:39:a9:64:a0:52:8c:70:30:a9:04:78:0c:0c:a6:\n",
            "    69:40:26:6a:37:d5:68:b2:56:f7:1b:ba:b8:b6:18:\n",
            "    78:cd:dd:79:10:0c:a8:ad:f6:12:45:15:bb:2a:3c:\n",
            "    e9:38:93:da:d4:97:2d:14:44:06:d6:2e:bf:1c:f3:\n",
            "    99:ef:18:ed:b6:ce:21:8a:68:ab:ab:ec:e7:05:75:\n",
            "    d5:4e:f1:bf:6e:a4:af:b1:c8:03:e0:cf:3e:e5:20:\n",
            "    db:ce:f1:35:71:91:86:f5:34:1a:25:cf:e0:a6:7d:\n",
            "    b2:e6:07:45:01:9f:5b:6d:8e:72:45:bf:dd:54:73:\n",
            "    3d:c1\n",
            "exponent1:\n",
            "    16:eb:82:e2:f3:dd:a1:03:34:3e:6e:c8:c7:a0:c4:\n",
            "    27:96:87:fa:77:b0:b8:b4:7d:4d:7d:63:ad:f2:72:\n",
            "    cd:a4:52:30:00:c8:c2:5e:2a:49:cb:6d:07:e1:21:\n",
            "    2b:0e:ec:95:52:9f:d6:6e:43:93:ac:85:75:0b:e9:\n",
            "    12:d1:fe:b3:f8:06:d3:10:42:79:b5:09:a6:3a:c1:\n",
            "    f1:5e:97:6e:96:f7:13:5a:79:08:b4:fc:c2:f8:96:\n",
            "    04:59:30:97:f6:e8:87:d0:73:ae:9c:af:3f:1e:6a:\n",
            "    ec:2f:e5:67:74:90:89:c5:dd:7e:60:8e:81:de:c3:\n",
            "    30:9e:51:56:52:29:85:5e:65:bb:93:4a:13:8c:36:\n",
            "    7d:eb:e3:bc:80:5f:cc:19:a1:e5:33:a1:76:38:ac:\n",
            "    d8:05:c5:97:9d:de:60:df:23:3e:be:7e:69:f2:bc:\n",
            "    46:04:94:41:42:83:37:04:9a:a5:d4:0f:1f:80:60:\n",
            "    b2:92:a7:ee:36:ee:ee:80:5d:66:f6:37:ac:dc:7d:\n",
            "    64:21:c0:32:45:21:8d:ba:a7:80:af:f1:24:9e:53:\n",
            "    4d:f9:3a:89:26:78:e1:99:66:80:f3:86:f6:99:f4:\n",
            "    e9:31:fb:ea:95:b4:b2:22:b5:68:b6:db:44:e9:b5:\n",
            "    86:e9:88:3f:43:43:53:ce:c7:8d:d9:a9:9e:b3:04:\n",
            "    53\n",
            "exponent2:\n",
            "    2c:ab:da:db:53:0f:fe:f5:71:d1:ec:2c:e4:5d:f1:\n",
            "    c4:23:33:f5:71:8c:5c:de:af:66:f0:ef:16:20:a6:\n",
            "    9d:de:1d:81:b5:c2:aa:d4:bd:36:96:58:5d:87:7a:\n",
            "    97:5f:fb:e3:f7:8f:59:a4:c6:30:1d:b0:92:ca:3d:\n",
            "    96:a8:2e:ad:0c:8c:44:b9:8d:d8:a1:d2:e4:72:e8:\n",
            "    8e:18:14:ff:44:35:9d:b5:0a:3f:8d:42:0c:0d:3a:\n",
            "    01:ad:36:69:ea:8f:fc:62:6d:19:66:60:85:8a:fa:\n",
            "    10:e6:b0:97:29:08:59:34:5d:d3:27:0a:1d:3a:9e:\n",
            "    ad:46:56:9c:ad:5e:5e:13:47:54:29:cd:47:0f:66:\n",
            "    7a:96:47:22:f0:f5:b6:af:e2:75:08:00:bb:91:b6:\n",
            "    06:fd:6f:53:70:4b:c9:3e:5d:d6:65:17:64:fc:d1:\n",
            "    d0:e6:6c:81:4e:4d:a6:fe:4a:90:6e:68:3f:21:07:\n",
            "    47:74:88:c9:73:eb:9e:4f:fb:38:f1:eb:17:d6:cb:\n",
            "    4f:65:58:eb:ff:7d:ad:d5:25:31:dd:8d:5b:38:a9:\n",
            "    02:b9:62:cf:e5:fb:8e:97:2d:01:fc:1e:68:7a:76:\n",
            "    3f:4d:86:f0:55:af:c4:c6:67:33:b2:1c:61:c5:da:\n",
            "    1f:bf:00:50:68:e2:a4:4b:0c:f1:72:9c:f0:7d:1e:\n",
            "    41\n",
            "coefficient:\n",
            "    39:9a:ef:88:21:71:3b:f5:a3:29:16:03:cc:37:2b:\n",
            "    d5:e1:04:a7:41:3f:2c:e1:49:b9:4b:46:09:f4:49:\n",
            "    70:d7:a7:3e:57:97:51:45:20:5e:99:0f:42:54:16:\n",
            "    89:29:98:61:38:f3:7f:54:6c:2a:d4:33:32:56:a8:\n",
            "    91:fb:85:1b:87:98:a0:15:a2:42:ab:ac:12:e3:9e:\n",
            "    dd:e6:2f:a9:2b:d6:2e:3a:e9:aa:13:6a:a1:09:62:\n",
            "    80:1c:7e:a2:29:06:2c:e7:4d:00:c4:b8:2b:3b:cb:\n",
            "    2d:73:ec:a3:e2:e2:c3:64:ea:c8:74:74:5b:68:ff:\n",
            "    53:2e:c0:aa:51:08:ae:1c:cf:20:99:88:cd:0e:f5:\n",
            "    65:3f:ec:01:e2:62:05:7f:f3:e4:dd:0f:0b:78:86:\n",
            "    79:53:4d:77:c7:e7:20:07:77:00:94:b3:34:93:f1:\n",
            "    3f:77:9d:5f:d5:35:e6:c3:6a:5a:54:44:01:de:96:\n",
            "    a7:8a:83:57:2f:5f:67:d4:0b:c5:e6:68:79:7a:c7:\n",
            "    36:a1:68:82:f5:56:8f:1f:ec:7e:9b:68:ac:5c:e2:\n",
            "    a2:5b:03:a2:ca:56:45:ec:23:29:32:d0:dc:5d:e3:\n",
            "    06:42:19:70:7c:b5:05:41:70:48:09:fe:19:60:f4:\n",
            "    64:7a:31:34:cc:51:2f:2e:c8:cb:bb:2e:93:19:ee:\n",
            "    45\n"
          ]
        }
      ]
    },
    {
      "cell_type": "markdown",
      "source": [
        "This command creates a 4096-bit RSA key, encrypted with AES-256. Replace rootCA.key with your desired file name."
      ],
      "metadata": {
        "id": "R5BRkNpX9j5o"
      }
    },
    {
      "cell_type": "code",
      "source": [
        "#Create a Root Certificate\n",
        "!openssl req -x509 -new -nodes -key rootCA.key -sha256 -days 1024 -out rootCA.pem"
      ],
      "metadata": {
        "colab": {
          "base_uri": "https://localhost:8080/"
        },
        "id": "DvMKsVrI9wIc",
        "outputId": "6f2a49b7-26bd-4646-a5dc-3bf323934513"
      },
      "execution_count": 3,
      "outputs": [
        {
          "output_type": "stream",
          "name": "stdout",
          "text": [
            "Enter pass phrase for rootCA.key:\n",
            "You are about to be asked to enter information that will be incorporated\n",
            "into your certificate request.\n",
            "What you are about to enter is what is called a Distinguished Name or a DN.\n",
            "There are quite a few fields but you can leave some blank\n",
            "For some fields there will be a default value,\n",
            "If you enter '.', the field will be left blank.\n",
            "-----\n",
            "Country Name (2 letter code) [AU]:IN\n",
            "State or Province Name (full name) [Some-State]:TN\n",
            "Locality Name (eg, city) []:Vellore\n",
            "Organization Name (eg, company) [Internet Widgits Pty Ltd]:VIT\n",
            "Organizational Unit Name (eg, section) []:CyberOps\n",
            "Common Name (e.g. server FQDN or YOUR name) []:CyberOPS\n",
            "Email Address []:cyberops@vit.ac.in\n"
          ]
        }
      ]
    },
    {
      "cell_type": "code",
      "source": [
        "#Verify Root Certificate\n",
        "!openssl x509 -in rootCA.pem -text -noout"
      ],
      "metadata": {
        "colab": {
          "base_uri": "https://localhost:8080/"
        },
        "id": "8-83EEAJ-Zyr",
        "outputId": "57302d7d-9b17-412e-85fd-95619e5ddc4f"
      },
      "execution_count": 5,
      "outputs": [
        {
          "output_type": "stream",
          "name": "stdout",
          "text": [
            "Certificate:\n",
            "    Data:\n",
            "        Version: 3 (0x2)\n",
            "        Serial Number:\n",
            "            26:e0:0f:ed:d1:34:40:39:31:17:f8:6c:ef:9c:cc:ec:c4:7b:03:6a\n",
            "        Signature Algorithm: sha256WithRSAEncryption\n",
            "        Issuer: C = IN, ST = TN, L = Vellore, O = VIT, OU = CyberOps, CN = CyberOPS, emailAddress = cyberops@vit.ac.in\n",
            "        Validity\n",
            "            Not Before: Dec  7 07:27:03 2023 GMT\n",
            "            Not After : Sep 26 07:27:03 2026 GMT\n",
            "        Subject: C = IN, ST = TN, L = Vellore, O = VIT, OU = CyberOps, CN = CyberOPS, emailAddress = cyberops@vit.ac.in\n",
            "        Subject Public Key Info:\n",
            "            Public Key Algorithm: rsaEncryption\n",
            "                Public-Key: (4096 bit)\n",
            "                Modulus:\n",
            "                    00:af:e3:7f:4d:d1:01:db:23:85:58:fa:55:0c:40:\n",
            "                    47:e8:7d:e2:2a:26:28:c2:0c:7e:c4:4a:6c:cb:46:\n",
            "                    2c:5f:24:68:b1:be:96:0d:4e:8e:49:8e:95:be:05:\n",
            "                    7e:c1:b7:04:76:09:60:55:40:45:40:73:5c:e4:13:\n",
            "                    c8:b4:18:d4:c0:e5:95:8c:35:81:dc:d9:aa:2b:4d:\n",
            "                    e1:55:59:d1:87:86:49:15:de:6b:bd:35:ce:26:6c:\n",
            "                    8f:11:9d:14:a3:35:12:e0:00:31:be:c8:63:70:6d:\n",
            "                    77:e6:b9:03:71:99:08:3d:76:3e:6d:31:1b:91:00:\n",
            "                    cb:80:6e:04:ea:a7:25:9e:12:0f:1c:9b:0e:25:6c:\n",
            "                    9c:b5:3a:2f:c4:97:44:8d:c7:48:82:3b:2c:2e:b3:\n",
            "                    16:73:cf:c8:9a:69:98:60:8f:b9:bc:bf:71:98:81:\n",
            "                    b5:84:b0:09:7d:cf:84:cf:a0:dc:2b:2a:c5:91:1e:\n",
            "                    a5:53:a0:dd:ef:e0:f9:91:df:bc:7f:55:43:93:7c:\n",
            "                    f9:ea:c0:fc:cc:88:5c:6e:55:ad:5a:85:06:3d:03:\n",
            "                    25:79:dd:e0:9b:58:ed:6e:8d:3a:da:5f:df:59:69:\n",
            "                    d2:c6:22:46:31:6e:01:c7:d6:92:db:cb:de:4a:54:\n",
            "                    04:82:71:25:2c:a7:76:3e:e2:30:b8:06:44:c8:e4:\n",
            "                    65:61:11:df:25:3a:dc:ff:31:cf:d9:0f:fd:e0:2c:\n",
            "                    fd:1b:3c:95:58:df:74:c7:1d:ea:57:75:8e:e4:7b:\n",
            "                    fb:4a:67:dc:0f:40:0a:06:b1:76:61:75:c8:de:99:\n",
            "                    09:61:a9:37:eb:16:bb:d2:b6:3b:13:82:85:44:d0:\n",
            "                    8f:90:17:e9:68:39:6b:be:5b:bc:6a:f9:4a:fa:a7:\n",
            "                    99:ba:be:39:b9:1d:2e:a3:d4:17:0e:0f:cd:64:c5:\n",
            "                    1d:b6:86:6c:50:31:47:f0:64:50:3e:ba:4e:e8:40:\n",
            "                    46:21:0b:f0:73:77:ba:32:f9:f7:13:c1:5e:2c:ec:\n",
            "                    06:49:9a:9b:e8:cd:00:97:c3:b6:e7:6a:b6:72:29:\n",
            "                    a3:f6:06:48:e3:17:9a:4e:7d:69:e2:1c:16:e7:f5:\n",
            "                    2a:b6:82:ff:9c:c2:41:ec:23:2e:52:98:ec:27:5f:\n",
            "                    74:93:48:92:3d:52:ac:6f:57:4a:c7:7a:0c:64:1e:\n",
            "                    e6:c9:bf:15:f6:d8:2b:99:83:df:00:9e:20:ff:17:\n",
            "                    e0:99:8b:a9:d2:bc:1d:cf:36:c3:cb:7f:f9:cc:c4:\n",
            "                    77:fc:1c:fc:ca:ab:28:8d:f2:c6:50:f0:8c:6d:5e:\n",
            "                    89:d3:10:0d:76:40:cb:89:29:53:ed:5e:7f:dc:19:\n",
            "                    8e:33:ee:61:6a:e2:59:9a:dd:07:6c:fa:a4:29:7a:\n",
            "                    a3:23:37\n",
            "                Exponent: 65537 (0x10001)\n",
            "        X509v3 extensions:\n",
            "            X509v3 Subject Key Identifier: \n",
            "                0F:FA:23:48:99:4E:7F:3C:FF:DF:5D:80:E8:93:A7:E6:3A:DD:0C:C5\n",
            "            X509v3 Authority Key Identifier: \n",
            "                0F:FA:23:48:99:4E:7F:3C:FF:DF:5D:80:E8:93:A7:E6:3A:DD:0C:C5\n",
            "            X509v3 Basic Constraints: critical\n",
            "                CA:TRUE\n",
            "    Signature Algorithm: sha256WithRSAEncryption\n",
            "    Signature Value:\n",
            "        75:18:2f:bf:f3:33:a4:2d:40:ae:55:6e:e1:b5:54:d3:1b:9b:\n",
            "        e4:7a:35:e1:6a:0b:57:81:68:f3:f7:a3:0f:82:0f:b8:4e:c8:\n",
            "        d9:0a:37:f0:b6:07:59:3d:e0:22:08:f7:de:8f:c5:1c:57:71:\n",
            "        e3:3b:bc:4c:81:8e:55:2b:ed:bb:e7:d9:5e:07:a4:dc:df:5f:\n",
            "        63:af:95:01:85:0b:52:cb:f7:3e:91:f2:22:fa:d3:d8:56:f5:\n",
            "        6b:04:ca:9c:a2:57:c1:b3:00:04:26:bb:d0:be:c9:bf:d5:6b:\n",
            "        f3:11:9b:52:a8:77:71:c6:d3:3f:55:bf:72:9e:03:37:dd:1d:\n",
            "        80:37:f8:fc:20:7e:06:0b:ca:58:71:08:1a:af:a0:87:47:d8:\n",
            "        c4:75:24:86:06:fa:d2:30:ea:63:79:68:cb:93:19:ac:92:fb:\n",
            "        4e:ad:93:fc:73:ea:e6:47:b5:5c:0e:69:5e:c2:84:d9:d7:87:\n",
            "        f9:45:ca:9a:1c:fb:70:53:9a:a1:6d:2f:e9:d8:99:99:de:90:\n",
            "        6b:85:f0:01:49:cc:d9:53:ed:ff:84:34:5d:1e:1c:e0:f1:93:\n",
            "        51:18:eb:26:dd:3e:ad:74:c3:d4:d6:33:5e:a3:c4:f0:33:3f:\n",
            "        13:ad:46:cf:6b:b1:13:36:2f:b7:f5:f2:71:08:35:e1:4d:ed:\n",
            "        50:90:d8:9c:06:ba:68:df:98:ac:cc:44:d3:6a:a0:49:aa:ee:\n",
            "        a4:91:d9:67:e6:1f:af:3d:9f:e1:a2:cc:bb:c7:04:66:f9:67:\n",
            "        9c:91:5a:5e:56:ed:72:4c:a6:56:e3:be:ec:af:06:9b:04:37:\n",
            "        49:f3:72:5e:5b:a3:49:5a:7b:9e:ce:44:ab:ee:4f:86:f9:d6:\n",
            "        ad:39:7e:18:8f:62:2c:58:13:0f:7c:ca:d3:b4:51:a3:eb:6f:\n",
            "        dd:19:cb:a3:56:0c:f0:eb:6a:bd:7d:9f:e5:5b:e2:14:03:cc:\n",
            "        9d:44:e1:86:f8:1b:78:f1:a3:52:c7:fe:91:30:4f:05:56:f5:\n",
            "        ad:b8:15:a3:78:2c:47:25:93:99:59:20:6a:bd:8f:42:ce:83:\n",
            "        dd:56:ee:b1:e9:6f:0e:47:99:eb:13:8b:9f:e7:81:b1:1c:a5:\n",
            "        63:19:78:03:e2:d2:65:ec:fa:75:f1:0a:59:ba:43:52:46:b9:\n",
            "        4c:83:74:5c:84:86:f1:e8:5e:37:e3:bd:25:2e:6a:56:4b:cb:\n",
            "        bb:50:14:cf:04:c1:95:f3:1a:be:ea:f7:da:84:d3:a7:21:5f:\n",
            "        8a:f1:cc:ec:b0:5a:33:4e:ad:e8:c5:b4:56:78:d7:64:fc:f7:\n",
            "        9e:9b:41:6d:dd:c5:74:16:2b:a6:e6:08:b8:bd:f5:2c:07:9f:\n",
            "        30:df:4b:99:e3:44:6f:94\n"
          ]
        }
      ]
    },
    {
      "cell_type": "markdown",
      "source": [
        "This command creates a root certificate (rootCA.pem) valid for 1024 days. Enter the required details when prompted."
      ],
      "metadata": {
        "id": "pHl-WFQw-Q-k"
      }
    },
    {
      "cell_type": "markdown",
      "source": [
        "Step 2: Create an Intermediate Key Pair"
      ],
      "metadata": {
        "id": "tyx9K1m0_Q93"
      }
    },
    {
      "cell_type": "code",
      "source": [
        "#Generate an Intermediate Key\n",
        "!openssl genrsa -aes256 -out intermediateCA.key 4096"
      ],
      "metadata": {
        "colab": {
          "base_uri": "https://localhost:8080/"
        },
        "id": "bPXV0CUr_UA0",
        "outputId": "1dd2050a-102a-4239-88b9-a05d869dd12f"
      },
      "execution_count": 6,
      "outputs": [
        {
          "output_type": "stream",
          "name": "stdout",
          "text": [
            "Enter PEM pass phrase:\n",
            "Verifying - Enter PEM pass phrase:\n"
          ]
        }
      ]
    },
    {
      "cell_type": "code",
      "source": [
        "#Generate an Intermediate Certificate Request\n",
        "!openssl req -new -key intermediateCA.key -out intermediateCA.csr"
      ],
      "metadata": {
        "colab": {
          "base_uri": "https://localhost:8080/"
        },
        "id": "g1ixHmSd_Zcb",
        "outputId": "f60e5c8c-14e4-49ee-96bd-fc3a228909f3"
      },
      "execution_count": 7,
      "outputs": [
        {
          "output_type": "stream",
          "name": "stdout",
          "text": [
            "Enter pass phrase for intermediateCA.key:\n",
            "You are about to be asked to enter information that will be incorporated\n",
            "into your certificate request.\n",
            "What you are about to enter is what is called a Distinguished Name or a DN.\n",
            "There are quite a few fields but you can leave some blank\n",
            "For some fields there will be a default value,\n",
            "If you enter '.', the field will be left blank.\n",
            "-----\n",
            "Country Name (2 letter code) [AU]:IN\n",
            "State or Province Name (full name) [Some-State]:TN\n",
            "Locality Name (eg, city) []:Vellore\n",
            "Organization Name (eg, company) [Internet Widgits Pty Ltd]:VIT\n",
            "Organizational Unit Name (eg, section) []:CIA Team\n",
            "Common Name (e.g. server FQDN or YOUR name) []:CIA Team\n",
            "Email Address []:cia@vit.ac.in\n",
            "\n",
            "Please enter the following 'extra' attributes\n",
            "to be sent with your certificate request\n",
            "A challenge password []:cisco\n",
            "An optional company name []:VIT\n"
          ]
        }
      ]
    },
    {
      "cell_type": "code",
      "source": [
        "#Verify Intermediate Certificate\n",
        "!openssl req -in intermediateCA.csr -text -noout"
      ],
      "metadata": {
        "colab": {
          "base_uri": "https://localhost:8080/"
        },
        "id": "SSvntQXF_7De",
        "outputId": "541e2366-f0ce-4844-9816-7c816a084187"
      },
      "execution_count": 8,
      "outputs": [
        {
          "output_type": "stream",
          "name": "stdout",
          "text": [
            "Certificate Request:\n",
            "    Data:\n",
            "        Version: 1 (0x0)\n",
            "        Subject: C = IN, ST = TN, L = Vellore, O = VIT, OU = CIA Team, CN = CIA Team, emailAddress = cia@vit.ac.in\n",
            "        Subject Public Key Info:\n",
            "            Public Key Algorithm: rsaEncryption\n",
            "                Public-Key: (4096 bit)\n",
            "                Modulus:\n",
            "                    00:b8:c5:97:e6:95:4d:1f:51:6f:98:c8:6a:fe:0d:\n",
            "                    56:d1:c1:d1:99:d2:07:44:1a:5d:57:10:cf:91:45:\n",
            "                    a1:91:e3:8e:b8:d6:de:06:e2:ce:45:17:da:0c:ef:\n",
            "                    e3:58:8e:d2:a0:ac:b9:83:f7:9d:d7:2c:d6:e9:db:\n",
            "                    b3:92:f7:92:a2:79:1f:1d:7c:5e:87:d8:6c:60:f7:\n",
            "                    2e:19:9c:0c:65:6a:e4:a7:80:46:2b:4b:31:31:88:\n",
            "                    40:81:35:65:75:57:46:95:b4:35:24:3c:c9:6e:17:\n",
            "                    55:39:1a:e1:65:fe:8c:fd:f1:c4:66:9a:ca:f6:25:\n",
            "                    97:88:a1:d2:d2:ac:f1:50:ef:2d:17:59:76:ae:98:\n",
            "                    06:05:f6:be:49:8f:c5:04:47:ce:c0:60:69:77:53:\n",
            "                    d7:fc:0b:10:fb:a2:f1:17:4c:de:d1:7b:38:f7:f1:\n",
            "                    0d:2d:9a:65:6d:17:1f:ee:89:7b:03:f3:d2:1c:62:\n",
            "                    60:e7:3b:4e:d4:3b:75:c5:15:b2:2f:40:a1:23:51:\n",
            "                    70:05:3c:41:fa:a9:67:41:d6:0a:bb:bb:3a:4b:33:\n",
            "                    40:d7:44:ee:76:0c:ca:1a:35:24:33:0c:a2:61:6d:\n",
            "                    76:2d:bf:94:ad:c9:c6:a2:0d:54:8c:ab:73:f3:e3:\n",
            "                    94:0a:a0:52:77:35:6f:8c:9f:ab:c5:bd:bb:86:70:\n",
            "                    6b:7f:26:f3:b1:ed:7c:d3:af:5e:7b:cf:0e:07:65:\n",
            "                    01:16:69:82:af:cb:36:7b:cd:2c:63:28:4d:52:02:\n",
            "                    90:c3:8b:53:79:f6:57:ef:d0:20:59:ae:12:14:65:\n",
            "                    d9:31:27:23:58:ac:e3:34:30:05:58:0f:7a:0d:c0:\n",
            "                    9c:50:ac:87:07:87:48:b5:65:21:66:76:17:9d:f6:\n",
            "                    9d:de:a2:e2:d4:c7:6e:b3:f0:27:a8:54:36:11:43:\n",
            "                    5b:10:ef:7d:5a:de:be:43:f2:8b:f8:77:86:e0:a6:\n",
            "                    66:4d:77:82:ee:d7:34:ec:3f:cf:1f:42:c5:39:58:\n",
            "                    94:65:66:31:b9:ce:2b:de:a8:fc:59:62:29:e0:81:\n",
            "                    6c:12:6d:c1:d0:ec:a8:f3:16:eb:1f:5c:69:67:4d:\n",
            "                    32:dd:b4:d4:24:ad:e5:7c:8a:63:eb:bf:f9:65:e4:\n",
            "                    7e:c0:dd:d4:37:4b:c3:73:5d:be:21:8b:75:dc:dd:\n",
            "                    da:c5:33:25:82:7c:c7:17:95:fe:60:8d:09:d0:76:\n",
            "                    0a:d5:17:93:3d:1d:94:ac:65:18:45:47:85:6b:d1:\n",
            "                    a4:14:0f:1e:98:d0:f4:e4:7c:b4:30:c6:78:a1:b1:\n",
            "                    88:a5:dd:7a:6f:0f:13:8b:b2:f3:37:e4:90:d3:db:\n",
            "                    c2:bb:6d:df:50:18:ae:6f:46:3c:63:5c:04:4c:72:\n",
            "                    01:38:11\n",
            "                Exponent: 65537 (0x10001)\n",
            "        Attributes:\n",
            "            unstructuredName         :VIT\n",
            "            challengePassword        :cisco\n",
            "            Requested Extensions:\n",
            "    Signature Algorithm: sha256WithRSAEncryption\n",
            "    Signature Value:\n",
            "        65:68:8a:72:77:1d:20:0d:82:60:64:0d:2d:cd:47:41:38:a9:\n",
            "        66:cf:dd:07:4d:4c:4e:47:3f:47:15:f1:b1:ec:10:49:c4:f9:\n",
            "        50:82:4f:da:b8:e3:eb:d2:09:f2:97:05:a8:fa:b8:49:af:4a:\n",
            "        a2:5a:ce:ac:03:bc:68:25:31:26:0f:14:11:96:b5:f7:90:ae:\n",
            "        cf:1b:aa:f0:8f:15:d9:e7:53:91:23:4c:ec:a3:21:36:45:80:\n",
            "        ce:d3:24:b5:c6:bf:07:31:04:d6:40:32:9e:c2:c9:b9:d6:8a:\n",
            "        5a:ad:4e:7c:70:62:e8:74:e9:24:5b:1e:c4:ea:86:87:4d:66:\n",
            "        41:b4:f0:1f:7c:66:73:c2:05:e9:97:1b:bb:c1:0f:4d:af:15:\n",
            "        98:34:ef:09:75:70:6b:ac:0d:cd:01:39:16:15:b1:76:84:3d:\n",
            "        1e:e0:7e:c7:ba:ab:36:e8:be:e6:65:ab:e2:84:bd:f1:2b:24:\n",
            "        68:b7:89:51:bf:2c:34:fa:28:d2:0d:dc:ea:da:c2:75:78:75:\n",
            "        85:ad:c2:cd:16:80:0e:62:cc:d2:ee:24:01:b3:c5:46:b9:27:\n",
            "        05:09:ed:dd:bb:44:d8:26:c4:f7:b0:ec:4c:12:06:da:cc:75:\n",
            "        78:0f:ca:ad:e9:81:0c:a2:26:58:02:7f:29:90:44:97:f9:08:\n",
            "        ab:de:02:90:94:48:e8:f8:88:99:82:3e:d5:3e:90:bc:b1:c0:\n",
            "        95:1d:b8:97:1a:a4:30:bd:ec:18:70:f9:a3:b7:ef:bb:43:d0:\n",
            "        da:66:72:3c:2c:ff:e0:f4:25:c2:78:b2:c9:1e:6d:a8:d7:a5:\n",
            "        f0:34:13:0f:4f:bb:68:2f:6e:ff:24:88:71:22:e0:8e:fc:d4:\n",
            "        af:22:03:23:68:e1:87:fd:3d:d6:77:e9:69:3a:17:88:a0:40:\n",
            "        5e:68:77:b3:3e:b8:8b:9d:5c:a2:21:88:28:fb:fc:df:80:6b:\n",
            "        cd:ec:8e:ee:f0:57:f2:bc:2d:07:fd:78:36:d8:0f:87:49:c0:\n",
            "        3c:86:38:50:2f:f3:ee:69:44:46:92:60:d5:f0:31:18:7f:36:\n",
            "        9f:6d:15:14:f0:d4:d2:b3:c0:45:24:ee:cb:26:dc:eb:25:b7:\n",
            "        6e:47:b9:78:f2:86:cb:03:56:c5:38:4a:52:b5:71:df:49:ea:\n",
            "        46:2a:53:5a:08:4f:7c:82:ac:64:54:86:35:0e:c0:68:4b:4e:\n",
            "        8c:6f:fc:3d:55:84:eb:ac:b1:ac:74:b5:9a:fc:02:9d:12:c7:\n",
            "        be:73:b8:d1:6e:14:45:23:bc:7c:f5:78:e1:71:e2:0e:73:d4:\n",
            "        6c:f9:bc:3f:7f:0b:52:fc:1a:69:9f:36:79:32:4f:dd:0f:1c:\n",
            "        e4:9d:7b:e0:91:f4:cd:39\n"
          ]
        }
      ]
    },
    {
      "cell_type": "markdown",
      "source": [
        "A CSR (Certificate Signing Request) is created."
      ],
      "metadata": {
        "id": "SfHoJ6xrAXmc"
      }
    },
    {
      "cell_type": "markdown",
      "source": [
        "Step 3: Create an Intermediate Certificate Signed by Root CA"
      ],
      "metadata": {
        "id": "OyG7c-YDAaet"
      }
    },
    {
      "cell_type": "code",
      "source": [
        "#Create Intermediate Certificate\n",
        "!openssl x509 -req -in intermediateCA.csr -CA rootCA.pem -CAkey rootCA.key -CAcreateserial -out intermediateCA.pem -days 500 -sha256"
      ],
      "metadata": {
        "colab": {
          "base_uri": "https://localhost:8080/"
        },
        "id": "0X4RoFEgAfUw",
        "outputId": "ba8cdd73-2f12-4066-d0e6-d1cc35277201"
      },
      "execution_count": 9,
      "outputs": [
        {
          "output_type": "stream",
          "name": "stdout",
          "text": [
            "Certificate request self-signature ok\n",
            "subject=C = IN, ST = TN, L = Vellore, O = VIT, OU = CIA Team, CN = CIA Team, emailAddress = cia@vit.ac.in\n",
            "Enter pass phrase for rootCA.key:\n"
          ]
        }
      ]
    },
    {
      "cell_type": "code",
      "source": [
        "#Verify Intermediate Certificate\n",
        "!openssl x509 -in intermediateCA.pem -text -noout"
      ],
      "metadata": {
        "colab": {
          "base_uri": "https://localhost:8080/"
        },
        "id": "xVE04HJ5ArMl",
        "outputId": "2ba0ac1d-87a1-4f32-a9ff-b00222fd3d91"
      },
      "execution_count": 10,
      "outputs": [
        {
          "output_type": "stream",
          "name": "stdout",
          "text": [
            "Certificate:\n",
            "    Data:\n",
            "        Version: 1 (0x0)\n",
            "        Serial Number:\n",
            "            2c:51:e1:c3:9c:ca:fa:59:1c:a1:cb:fa:22:42:26:61:60:56:7d:ef\n",
            "        Signature Algorithm: sha256WithRSAEncryption\n",
            "        Issuer: C = IN, ST = TN, L = Vellore, O = VIT, OU = CyberOps, CN = CyberOPS, emailAddress = cyberops@vit.ac.in\n",
            "        Validity\n",
            "            Not Before: Dec  7 07:29:08 2023 GMT\n",
            "            Not After : Apr 20 07:29:08 2025 GMT\n",
            "        Subject: C = IN, ST = TN, L = Vellore, O = VIT, OU = CIA Team, CN = CIA Team, emailAddress = cia@vit.ac.in\n",
            "        Subject Public Key Info:\n",
            "            Public Key Algorithm: rsaEncryption\n",
            "                Public-Key: (4096 bit)\n",
            "                Modulus:\n",
            "                    00:b8:c5:97:e6:95:4d:1f:51:6f:98:c8:6a:fe:0d:\n",
            "                    56:d1:c1:d1:99:d2:07:44:1a:5d:57:10:cf:91:45:\n",
            "                    a1:91:e3:8e:b8:d6:de:06:e2:ce:45:17:da:0c:ef:\n",
            "                    e3:58:8e:d2:a0:ac:b9:83:f7:9d:d7:2c:d6:e9:db:\n",
            "                    b3:92:f7:92:a2:79:1f:1d:7c:5e:87:d8:6c:60:f7:\n",
            "                    2e:19:9c:0c:65:6a:e4:a7:80:46:2b:4b:31:31:88:\n",
            "                    40:81:35:65:75:57:46:95:b4:35:24:3c:c9:6e:17:\n",
            "                    55:39:1a:e1:65:fe:8c:fd:f1:c4:66:9a:ca:f6:25:\n",
            "                    97:88:a1:d2:d2:ac:f1:50:ef:2d:17:59:76:ae:98:\n",
            "                    06:05:f6:be:49:8f:c5:04:47:ce:c0:60:69:77:53:\n",
            "                    d7:fc:0b:10:fb:a2:f1:17:4c:de:d1:7b:38:f7:f1:\n",
            "                    0d:2d:9a:65:6d:17:1f:ee:89:7b:03:f3:d2:1c:62:\n",
            "                    60:e7:3b:4e:d4:3b:75:c5:15:b2:2f:40:a1:23:51:\n",
            "                    70:05:3c:41:fa:a9:67:41:d6:0a:bb:bb:3a:4b:33:\n",
            "                    40:d7:44:ee:76:0c:ca:1a:35:24:33:0c:a2:61:6d:\n",
            "                    76:2d:bf:94:ad:c9:c6:a2:0d:54:8c:ab:73:f3:e3:\n",
            "                    94:0a:a0:52:77:35:6f:8c:9f:ab:c5:bd:bb:86:70:\n",
            "                    6b:7f:26:f3:b1:ed:7c:d3:af:5e:7b:cf:0e:07:65:\n",
            "                    01:16:69:82:af:cb:36:7b:cd:2c:63:28:4d:52:02:\n",
            "                    90:c3:8b:53:79:f6:57:ef:d0:20:59:ae:12:14:65:\n",
            "                    d9:31:27:23:58:ac:e3:34:30:05:58:0f:7a:0d:c0:\n",
            "                    9c:50:ac:87:07:87:48:b5:65:21:66:76:17:9d:f6:\n",
            "                    9d:de:a2:e2:d4:c7:6e:b3:f0:27:a8:54:36:11:43:\n",
            "                    5b:10:ef:7d:5a:de:be:43:f2:8b:f8:77:86:e0:a6:\n",
            "                    66:4d:77:82:ee:d7:34:ec:3f:cf:1f:42:c5:39:58:\n",
            "                    94:65:66:31:b9:ce:2b:de:a8:fc:59:62:29:e0:81:\n",
            "                    6c:12:6d:c1:d0:ec:a8:f3:16:eb:1f:5c:69:67:4d:\n",
            "                    32:dd:b4:d4:24:ad:e5:7c:8a:63:eb:bf:f9:65:e4:\n",
            "                    7e:c0:dd:d4:37:4b:c3:73:5d:be:21:8b:75:dc:dd:\n",
            "                    da:c5:33:25:82:7c:c7:17:95:fe:60:8d:09:d0:76:\n",
            "                    0a:d5:17:93:3d:1d:94:ac:65:18:45:47:85:6b:d1:\n",
            "                    a4:14:0f:1e:98:d0:f4:e4:7c:b4:30:c6:78:a1:b1:\n",
            "                    88:a5:dd:7a:6f:0f:13:8b:b2:f3:37:e4:90:d3:db:\n",
            "                    c2:bb:6d:df:50:18:ae:6f:46:3c:63:5c:04:4c:72:\n",
            "                    01:38:11\n",
            "                Exponent: 65537 (0x10001)\n",
            "    Signature Algorithm: sha256WithRSAEncryption\n",
            "    Signature Value:\n",
            "        87:34:4e:1c:1b:3c:7d:d6:52:4d:f6:79:18:c5:a8:90:9f:54:\n",
            "        49:eb:bc:53:19:ab:03:16:b8:a7:54:67:b6:4f:fd:4c:92:0d:\n",
            "        c8:b4:34:1a:e3:3e:61:09:b3:7c:d7:2f:3f:18:57:c1:51:1e:\n",
            "        99:20:98:f3:51:26:2b:60:a5:e0:4d:95:7b:6a:34:bc:33:b7:\n",
            "        d4:34:26:2b:bf:5e:43:f5:fe:15:d7:fd:4f:08:7b:66:6a:db:\n",
            "        2e:22:f7:87:56:f3:ff:10:62:34:e1:5d:4f:48:6e:78:08:67:\n",
            "        3b:f0:4a:b5:be:d7:75:5d:b9:ba:f9:0e:d0:af:5a:b7:03:25:\n",
            "        97:64:b2:6a:22:3c:46:79:fa:71:e8:c8:f8:b2:c4:ed:b8:ea:\n",
            "        3c:3f:49:26:37:77:fc:f2:8e:47:d5:e8:10:ac:17:53:a4:80:\n",
            "        69:20:15:96:2b:e5:91:29:72:88:a7:89:78:3d:e6:f5:4d:de:\n",
            "        21:bf:6b:0e:0e:27:f6:8c:a6:c5:65:0f:fd:aa:36:4b:d7:cd:\n",
            "        c1:5b:22:c2:42:9f:c5:8d:9b:95:da:bc:88:f1:f0:33:8f:40:\n",
            "        5a:9c:a5:46:b5:19:ab:5c:3f:cc:be:fa:a0:99:d9:e0:d7:bc:\n",
            "        83:0d:38:a3:04:e2:65:be:15:2a:b8:24:2f:26:82:d6:75:4e:\n",
            "        86:c1:40:f6:b6:fa:20:72:1d:ca:16:30:a1:43:1e:4b:5e:d5:\n",
            "        a9:b2:97:92:f1:95:59:ae:bb:81:fb:78:8d:0e:c0:ae:51:a1:\n",
            "        a7:f6:3a:92:e2:5a:6c:f3:bd:62:3f:19:0e:18:1c:da:b0:3f:\n",
            "        a1:38:70:d1:c6:b3:34:80:e5:72:50:60:bb:95:07:52:3a:0b:\n",
            "        e7:f6:42:9c:4b:00:62:b9:9b:d3:e0:44:87:7d:e0:2f:11:fd:\n",
            "        43:1d:d1:ce:32:36:11:98:b6:d8:54:fe:4d:2f:a6:12:0c:14:\n",
            "        10:f2:be:2d:30:87:d1:f0:0d:f2:02:66:e5:e3:6a:9a:ff:01:\n",
            "        27:03:43:21:7d:4f:9a:9c:68:fa:4e:a3:40:a5:55:98:f5:bc:\n",
            "        10:ff:0a:49:d9:de:32:db:a8:e1:2f:21:85:04:a2:ce:34:40:\n",
            "        fd:74:cd:31:46:29:4e:cc:b5:f7:85:60:e1:6d:49:59:8e:b0:\n",
            "        d7:c0:9a:ce:ce:73:d8:c5:03:27:33:05:e2:a7:56:8f:95:12:\n",
            "        6d:f4:c1:7c:9c:52:e4:0b:64:ac:46:be:e2:12:72:b3:13:29:\n",
            "        e2:9d:4a:c0:7c:c2:9e:16:86:49:61:47:db:98:f9:25:29:63:\n",
            "        2f:c1:7f:8e:de:1a:1d:29:0d:17:bd:20:0a:0b:e5:99:b8:ab:\n",
            "        fd:87:2e:36:9d:d7:6f:12\n"
          ]
        }
      ]
    },
    {
      "cell_type": "markdown",
      "source": [
        "This command creates an intermediate certificate signed by the Root CA, valid for 500 days."
      ],
      "metadata": {
        "id": "hEG0lijYA3sY"
      }
    },
    {
      "cell_type": "markdown",
      "source": [
        "Step 4: Create an Identity Certificate Signed by Intermediate CA"
      ],
      "metadata": {
        "id": "HZDWnOqUBTFu"
      }
    },
    {
      "cell_type": "code",
      "source": [
        "#Generate an Identity Key\n",
        "!openssl genrsa -aes256 -out identity.key 2048"
      ],
      "metadata": {
        "colab": {
          "base_uri": "https://localhost:8080/"
        },
        "id": "IY8qcwHRA16j",
        "outputId": "0d96cb0b-0f65-48b3-de1c-e06b019824d5"
      },
      "execution_count": 11,
      "outputs": [
        {
          "output_type": "stream",
          "name": "stdout",
          "text": [
            "Enter PEM pass phrase:\n",
            "Verifying - Enter PEM pass phrase:\n"
          ]
        }
      ]
    },
    {
      "cell_type": "code",
      "source": [
        "#Generate a CSR for the Identity Key\n",
        "!openssl req -new -key identity.key -out identity.csr"
      ],
      "metadata": {
        "colab": {
          "base_uri": "https://localhost:8080/"
        },
        "id": "dWoEPECHBgLW",
        "outputId": "688e6ebd-eb90-42e8-92fc-e4ec3461238d"
      },
      "execution_count": 12,
      "outputs": [
        {
          "output_type": "stream",
          "name": "stdout",
          "text": [
            "Enter pass phrase for identity.key:\n",
            "You are about to be asked to enter information that will be incorporated\n",
            "into your certificate request.\n",
            "What you are about to enter is what is called a Distinguished Name or a DN.\n",
            "There are quite a few fields but you can leave some blank\n",
            "For some fields there will be a default value,\n",
            "If you enter '.', the field will be left blank.\n",
            "-----\n",
            "Country Name (2 letter code) [AU]:IN\n",
            "State or Province Name (full name) [Some-State]:TN\n",
            "Locality Name (eg, city) []:Vellore\n",
            "Organization Name (eg, company) [Internet Widgits Pty Ltd]:VIT\n",
            "Organizational Unit Name (eg, section) []:Blue Team\n",
            "Common Name (e.g. server FQDN or YOUR name) []:Blue Team\n",
            "Email Address []:blueteam@vit.ac.in\n",
            "\n",
            "Please enter the following 'extra' attributes\n",
            "to be sent with your certificate request\n",
            "A challenge password []:cisco\n",
            "An optional company name []:Blue Teams\n"
          ]
        }
      ]
    },
    {
      "cell_type": "code",
      "source": [
        "#Create Identity Certificate\n",
        "!openssl x509 -req -in identity.csr -CA intermediateCA.pem -CAkey intermediateCA.key -CAcreateserial -out identity.pem -days 365 -sha256"
      ],
      "metadata": {
        "colab": {
          "base_uri": "https://localhost:8080/"
        },
        "id": "PSe00xcwCDMi",
        "outputId": "e4cb57a7-542e-419c-9f9e-1b683680d20d"
      },
      "execution_count": 13,
      "outputs": [
        {
          "output_type": "stream",
          "name": "stdout",
          "text": [
            "Certificate request self-signature ok\n",
            "subject=C = IN, ST = TN, L = Vellore, O = VIT, OU = Blue Team, CN = Blue Team, emailAddress = blueteam@vit.ac.in\n",
            "Enter pass phrase for intermediateCA.key:\n"
          ]
        }
      ]
    },
    {
      "cell_type": "code",
      "source": [
        "#Verify Identity Certificate\n",
        "!openssl x509 -in identity.pem -text -noout"
      ],
      "metadata": {
        "colab": {
          "base_uri": "https://localhost:8080/"
        },
        "id": "85lOVb_ECNm7",
        "outputId": "f2a95350-30a3-4d07-d0cc-835d6572d883"
      },
      "execution_count": 14,
      "outputs": [
        {
          "output_type": "stream",
          "name": "stdout",
          "text": [
            "Certificate:\n",
            "    Data:\n",
            "        Version: 1 (0x0)\n",
            "        Serial Number:\n",
            "            76:aa:b3:58:78:7d:f5:4c:4a:21:c6:a4:1b:9d:74:ec:48:7c:23:8b\n",
            "        Signature Algorithm: sha256WithRSAEncryption\n",
            "        Issuer: C = IN, ST = TN, L = Vellore, O = VIT, OU = CIA Team, CN = CIA Team, emailAddress = cia@vit.ac.in\n",
            "        Validity\n",
            "            Not Before: Dec  7 07:31:02 2023 GMT\n",
            "            Not After : Dec  6 07:31:02 2024 GMT\n",
            "        Subject: C = IN, ST = TN, L = Vellore, O = VIT, OU = Blue Team, CN = Blue Team, emailAddress = blueteam@vit.ac.in\n",
            "        Subject Public Key Info:\n",
            "            Public Key Algorithm: rsaEncryption\n",
            "                Public-Key: (2048 bit)\n",
            "                Modulus:\n",
            "                    00:98:6b:56:a1:48:a7:bd:72:0d:ac:76:ef:75:c4:\n",
            "                    f3:00:bc:78:40:07:cf:4a:a2:4d:50:f3:6c:21:d4:\n",
            "                    ad:b3:c8:4d:bf:86:71:ed:b5:ff:30:5a:ef:e5:ac:\n",
            "                    3a:86:b2:ef:92:35:3c:37:50:00:0b:42:db:82:bc:\n",
            "                    f3:80:d2:6b:97:87:7e:a4:d8:f4:2d:e4:9f:60:1b:\n",
            "                    97:68:30:c2:50:b5:ff:34:ae:93:cd:2d:c8:96:9e:\n",
            "                    34:5c:59:76:ae:d6:9e:18:db:92:d4:f5:bf:46:74:\n",
            "                    e7:6c:30:67:5d:71:fa:c3:82:09:32:25:eb:89:7b:\n",
            "                    a6:2d:34:04:0f:b5:95:6f:f6:bf:60:78:38:e8:cd:\n",
            "                    94:34:56:ba:5c:b2:da:fa:63:fd:2a:9e:ac:5b:4b:\n",
            "                    dc:b8:19:96:6e:73:bf:4e:a4:ca:4a:06:aa:7f:9f:\n",
            "                    48:84:4f:a2:8b:bd:56:5c:a6:44:24:6d:9b:be:d0:\n",
            "                    35:07:d6:be:b3:b5:7e:92:e3:92:61:a8:d5:a4:30:\n",
            "                    fa:dc:26:03:6a:a8:48:8d:b6:36:ea:b3:b6:43:6a:\n",
            "                    ae:6a:e9:52:1c:d8:aa:67:e9:ee:6e:1e:2d:a6:de:\n",
            "                    15:5b:fa:9c:1b:fd:fe:21:62:ae:29:dd:12:20:e6:\n",
            "                    bc:5b:b8:40:2b:16:1a:8e:b4:9e:9d:27:11:c6:25:\n",
            "                    e9:3b\n",
            "                Exponent: 65537 (0x10001)\n",
            "    Signature Algorithm: sha256WithRSAEncryption\n",
            "    Signature Value:\n",
            "        1a:13:c6:c5:e3:d2:6e:8a:fc:c5:56:75:36:50:c3:ee:27:31:\n",
            "        2a:a8:7e:b2:34:c4:57:74:e2:14:52:8d:93:41:ac:c3:53:0b:\n",
            "        8c:7a:57:a1:8f:97:d6:49:e1:e2:c3:40:12:6a:21:67:1f:63:\n",
            "        83:72:12:2f:6d:f0:ae:2e:7e:df:12:c1:3b:05:69:bc:bb:59:\n",
            "        f0:63:9c:26:c7:e0:17:25:95:34:4d:58:42:86:05:f8:07:11:\n",
            "        38:6e:02:54:47:66:87:be:27:14:20:6e:b9:fa:7e:1a:9f:2f:\n",
            "        dd:f2:23:e0:a6:02:cb:33:e7:3d:da:27:33:35:8d:86:7b:1e:\n",
            "        e9:07:fa:20:ef:e3:85:9e:2d:02:32:b5:93:70:26:2c:03:58:\n",
            "        10:06:37:e4:27:27:66:b1:9a:56:41:50:a3:34:0c:34:da:e3:\n",
            "        d3:34:41:b8:e9:22:2c:74:8a:bc:59:67:a1:9e:21:33:2c:bb:\n",
            "        49:86:da:de:6b:00:44:2a:88:a3:70:48:34:26:c8:fc:48:37:\n",
            "        7c:0d:07:54:46:c7:54:49:95:14:8e:f6:be:1d:d2:b5:1e:81:\n",
            "        8b:7c:5b:0d:ee:e2:16:05:e8:46:20:32:3f:98:ab:61:0f:1b:\n",
            "        97:b0:e9:19:47:e2:bc:8c:e6:4a:6c:6b:e8:05:f5:32:75:0f:\n",
            "        0a:dd:6b:50:23:bd:c0:71:01:49:f8:99:29:56:03:f0:2a:b1:\n",
            "        8a:c5:85:dd:50:17:cc:bd:a7:6c:ab:1e:29:02:ab:a1:b5:c1:\n",
            "        ab:3c:1e:6f:68:c8:d0:2a:99:11:cd:81:85:01:3c:7e:f4:80:\n",
            "        3b:f3:65:c3:89:24:5b:5c:15:d4:09:7a:80:08:03:2b:fb:7d:\n",
            "        1d:1a:35:d7:c6:4f:cb:98:22:39:e9:9c:df:7d:1c:76:f8:23:\n",
            "        3c:70:05:a6:e3:74:4d:ae:de:31:b4:5e:8c:20:21:6e:2b:87:\n",
            "        4b:42:ba:47:6d:28:e8:cf:76:9f:e1:28:e5:a6:4c:c8:53:bc:\n",
            "        af:c2:51:09:af:69:6a:6b:c4:ce:28:ad:9d:03:a9:70:09:9f:\n",
            "        5a:0a:2f:d7:1e:39:67:18:89:b4:a9:19:c8:b5:47:10:76:4e:\n",
            "        ef:74:d7:9f:8d:31:d9:80:99:6a:e2:40:3a:6d:c7:dc:ec:44:\n",
            "        9a:95:ff:fc:fb:9a:56:9d:6d:17:f3:96:1d:59:43:5d:db:71:\n",
            "        98:82:9a:3e:2d:b2:f3:3d:37:f9:90:79:c0:27:35:27:4d:dd:\n",
            "        5f:5d:72:77:e7:52:1a:de:98:af:23:74:23:66:23:3a:f6:8f:\n",
            "        da:26:95:44:d9:76:2b:a7:9c:e5:a3:36:a4:8f:b6:d3:18:aa:\n",
            "        5b:51:d2:07:1d:7f:e8:19\n"
          ]
        }
      ]
    },
    {
      "cell_type": "markdown",
      "source": [
        "This creates an identity certificate valid for 365 days."
      ],
      "metadata": {
        "id": "ETbTmGUYCJgn"
      }
    },
    {
      "cell_type": "markdown",
      "source": [
        "Step 6: Export Certificates and Keys \\\n",
        "Exporting to different formats (like PFX) can be done using OpenSSL commands."
      ],
      "metadata": {
        "id": "ZJPGQIT6CYku"
      }
    },
    {
      "cell_type": "code",
      "source": [
        "#Example for identity certificate\n",
        "!openssl pkcs12 -export -out identity.pfx -inkey identity.key -in identity.pem -certfile intermediateCA.pem"
      ],
      "metadata": {
        "colab": {
          "base_uri": "https://localhost:8080/"
        },
        "id": "u3MQ7I3GCfPG",
        "outputId": "4fba4ab6-60e1-4c3d-a158-b1be6572198f"
      },
      "execution_count": 15,
      "outputs": [
        {
          "output_type": "stream",
          "name": "stdout",
          "text": [
            "Enter pass phrase for identity.key:\n",
            "Enter Export Password:\n",
            "Verifying - Enter Export Password:\n"
          ]
        }
      ]
    },
    {
      "cell_type": "markdown",
      "source": [
        "Step 7: View Certificates in Different Formats\n",
        "1.\tVerbose Output: The -text -noout commands used in verification provide a verbose output.\n",
        "2.\tNon-Verbose Output: For a simpler output, omit -text"
      ],
      "metadata": {
        "id": "EY5ijaJADBgy"
      }
    },
    {
      "cell_type": "code",
      "source": [
        "!openssl x509 -in identity.pem -noout -subject -issuer"
      ],
      "metadata": {
        "colab": {
          "base_uri": "https://localhost:8080/"
        },
        "id": "h5VO6ZzGDHzD",
        "outputId": "1ee980eb-9d05-4f34-c9a9-9089865198a6"
      },
      "execution_count": 16,
      "outputs": [
        {
          "output_type": "stream",
          "name": "stdout",
          "text": [
            "subject=C = IN, ST = TN, L = Vellore, O = VIT, OU = Blue Team, CN = Blue Team, emailAddress = blueteam@vit.ac.in\n",
            "issuer=C = IN, ST = TN, L = Vellore, O = VIT, OU = CIA Team, CN = CIA Team, emailAddress = cia@vit.ac.in\n"
          ]
        }
      ]
    },
    {
      "cell_type": "markdown",
      "source": [
        "\n",
        "Step 8: Online Certificate Verification\n",
        "\n",
        "You can use online tools to verify the details of the certificates. Sites like sslshopper.com or digicert.com offer online certificate verification tools.\n",
        "You can upload the .pem or .crt files to these websites to check the validity and details of these certificates.\n"
      ],
      "metadata": {
        "id": "vkJ_kvfjDSgr"
      }
    }
  ]
}